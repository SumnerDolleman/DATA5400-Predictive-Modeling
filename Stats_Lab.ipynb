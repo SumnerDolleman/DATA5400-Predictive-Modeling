{
  "nbformat": 4,
  "nbformat_minor": 0,
  "metadata": {
    "colab": {
      "name": "Stats Lab.ipynb",
      "provenance": [],
      "authorship_tag": "ABX9TyN76OgVduZBGBgAE0GPDdD2",
      "include_colab_link": true
    },
    "kernelspec": {
      "name": "python3",
      "display_name": "Python 3"
    },
    "language_info": {
      "name": "python"
    }
  },
  "cells": [
    {
      "cell_type": "markdown",
      "metadata": {
        "id": "view-in-github",
        "colab_type": "text"
      },
      "source": [
        "<a href=\"https://colab.research.google.com/github/SumnerDolleman/DATA5400-Predictive-Modeling/blob/main/Stats_Lab.ipynb\" target=\"_parent\"><img src=\"https://colab.research.google.com/assets/colab-badge.svg\" alt=\"Open In Colab\"/></a>"
      ]
    },
    {
      "cell_type": "code",
      "execution_count": 10,
      "metadata": {
        "id": "zUFUxefhj6Hq"
      },
      "outputs": [],
      "source": [
        "import pandas as pd\n",
        "from pandas import Series, DataFrame\n",
        "import numpy as np\n",
        "import matplotlib.pyplot as plt\n",
        "import statistics"
      ]
    },
    {
      "cell_type": "code",
      "source": [
        "df  = pd.read_excel('https://github.com/SumnerDolleman/DATA5400-Predictive-Modeling/blob/main/Week%202%20Lab%20Activity%20-%20Teachers.xlsx?raw=true')\n",
        "\n"
      ],
      "metadata": {
        "id": "-hd2k9A7kEEe"
      },
      "execution_count": 5,
      "outputs": []
    },
    {
      "cell_type": "markdown",
      "source": [
        "What is the median number of hours worked per week for the sample of 13 high school science teachers?\n",
        "\n",
        "What is the median number of hours worked per week for the sample of 11 high school English teachers?\n",
        "\n",
        "Create a box plot for the number of hours worked for high school science teachers.\n",
        "\n",
        "Create a box plot for the number of hours worked for high school English teachers."
      ],
      "metadata": {
        "id": "Xs-JJO71opew"
      }
    },
    {
      "cell_type": "code",
      "source": [
        "statistics.median(df['Science Teachers'])"
      ],
      "metadata": {
        "colab": {
          "base_uri": "https://localhost:8080/"
        },
        "id": "3_JskobaodE6",
        "outputId": "e4b27097-a964-41dd-cc8c-4915d4ea5bfb"
      },
      "execution_count": 11,
      "outputs": [
        {
          "output_type": "execute_result",
          "data": {
            "text/plain": [
              "54"
            ]
          },
          "metadata": {},
          "execution_count": 11
        }
      ]
    },
    {
      "cell_type": "code",
      "source": [
        "statistics.median(df['English Teachers'])"
      ],
      "metadata": {
        "colab": {
          "base_uri": "https://localhost:8080/"
        },
        "id": "YvKRhyS0qdMn",
        "outputId": "93e7ea3c-0a66-4a8f-bfc5-2e6bbcc2fcb3"
      },
      "execution_count": 12,
      "outputs": [
        {
          "output_type": "execute_result",
          "data": {
            "text/plain": [
              "48.0"
            ]
          },
          "metadata": {},
          "execution_count": 12
        }
      ]
    },
    {
      "cell_type": "code",
      "source": [
        "fig = plt.figure(figsize =(10, 7))\n",
        " \n",
        "# Creating plot\n",
        "plt.boxplot(df['Science Teachers'])\n",
        " \n",
        "# show plot\n",
        "plt.show()"
      ],
      "metadata": {
        "colab": {
          "base_uri": "https://localhost:8080/",
          "height": 428
        },
        "id": "8UxJszPwqorO",
        "outputId": "aa4daeee-59f3-417d-c4be-9545f608ae8e"
      },
      "execution_count": 13,
      "outputs": [
        {
          "output_type": "display_data",
          "data": {
            "image/png": "[encoded data removed]",
            "text/plain": [
              "<Figure size 720x504 with 1 Axes>"
            ]
          },
          "metadata": {
            "needs_background": "light"
          }
        }
      ]
    },
    {
      "cell_type": "code",
      "source": [
        "vals = df['English Teachers']\n",
        "vals.dropna(inplace=True)\n",
        "\n",
        "fig = plt.figure(figsize =(10, 7))\n",
        " \n",
        "# Creating plot\n",
        "plt.boxplot(vals)\n",
        " \n",
        "# show plot\n",
        "plt.show()"
      ],
      "metadata": {
        "colab": {
          "base_uri": "https://localhost:8080/",
          "height": 428
        },
        "id": "9VDD6iWerHsj",
        "outputId": "db9d17d4-4414-46dd-c16d-2bb9e00e7629"
      },
      "execution_count": 34,
      "outputs": [
        {
          "output_type": "display_data",
          "data": {
            "image/png": "[encoded data removed]",
            "text/plain": [
              "<Figure size 720x504 with 1 Axes>"
            ]
          },
          "metadata": {
            "needs_background": "light"
          }
        }
      ]
    }
  ]
}