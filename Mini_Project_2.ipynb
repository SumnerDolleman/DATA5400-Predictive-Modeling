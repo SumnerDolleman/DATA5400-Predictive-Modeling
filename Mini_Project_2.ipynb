{
  "nbformat": 4,
  "nbformat_minor": 0,
  "metadata": {
    "colab": {
      "name": "Mini Project 2.ipynb",
      "provenance": [],
      "authorship_tag": "ABX9TyNjvDTw9urRs9brbMtFYA4N",
      "include_colab_link": true
    },
    "kernelspec": {
      "name": "python3",
      "display_name": "Python 3"
    },
    "language_info": {
      "name": "python"
    }
  },
  "cells": [
    {
      "cell_type": "markdown",
      "metadata": {
        "id": "view-in-github",
        "colab_type": "text"
      },
      "source": [
        "<a href=\"https://colab.research.google.com/github/SumnerDolleman/DATA5400-Predictive-Modeling/blob/main/Mini_Project_2.ipynb\" target=\"_parent\"><img src=\"https://colab.research.google.com/assets/colab-badge.svg\" alt=\"Open In Colab\"/></a>"
      ]
    },
    {
      "cell_type": "code",
      "execution_count": null,
      "metadata": {
        "id": "uUEqp2f04XyO"
      },
      "outputs": [],
      "source": [
        "import pandas as pd\n",
        "import numpy as np\n",
        "import statsmodels.api as sm\n",
        "import matplotlib.pyplot as plt\n",
        "from sklearn.linear_model import LinearRegression as lr\n",
        "from sklearn.model_selection import train_test_split\n",
        "\n",
        "df  = pd.read_excel('https://github.com/SumnerDolleman/DATA5400-Predictive-Modeling/blob/main/Mini%20Project%202%20-%20AlumniGiving.xlsx?raw=true')"
      ]
    },
    {
      "cell_type": "markdown",
      "source": [
        "Use the methods of the descriptive statistics summarize the data."
      ],
      "metadata": {
        "id": "Gp-9g7mVRczO"
      }
    },
    {
      "cell_type": "code",
      "source": [
        "m1 = df.mean()\n",
        "med1 = df.median()\n",
        "mod1 = df.mode()\n",
        "\n",
        "print('Here is the summary statistics for the Total Estimate column', '\\nMean: ', m1, '\\nMedian: ', med1, '\\nMode: ', mod1)"
      ],
      "metadata": {
        "colab": {
          "base_uri": "https://localhost:8080/"
        },
        "id": "TAfVcPEn6orX",
        "outputId": "64cf8cbd-b7ba-4d2a-c8ae-1735a707cbce"
      },
      "execution_count": null,
      "outputs": [
        {
          "output_type": "stream",
          "name": "stdout",
          "text": [
            "Here is the summary statistics for the Total Estimate column \n",
            "Mean:  Graduation Rate          83.041667\n",
            "% of Classes Under 20    55.729167\n",
            "Student-Faculty Ratio    11.541667\n",
            "Alumni Giving Rate       29.270833\n",
            "dtype: float64 \n",
            "Median:  Graduation Rate          83.5\n",
            "% of Classes Under 20    59.5\n",
            "Student-Faculty Ratio    10.5\n",
            "Alumni Giving Rate       29.0\n",
            "dtype: float64 \n",
            "Mode:                              University State  Graduation Rate  \\\n",
            "0                       Boston College    CA             92.0   \n",
            "1                  Brandeis University   NaN              NaN   \n",
            "2                     Brown University   NaN              NaN   \n",
            "3   California Institute of Technology   NaN              NaN   \n",
            "4           Carnegie Mellon University   NaN              NaN   \n",
            "5           Case Western Reserve Univ.   NaN              NaN   \n",
            "6          College of William and Mary   NaN              NaN   \n",
            "7                  Columbia University   NaN              NaN   \n",
            "8                   Cornell University   NaN              NaN   \n",
            "9                    Dartmouth College   NaN              NaN   \n",
            "10                     Duke University   NaN              NaN   \n",
            "11                    Emory University   NaN              NaN   \n",
            "12               Georgetown University   NaN              NaN   \n",
            "13                  Harvard University   NaN              NaN   \n",
            "14            Johns Hopkins University   NaN              NaN   \n",
            "15                   Lehigh University   NaN              NaN   \n",
            "16   Massachusetts Inst. of Technology   NaN              NaN   \n",
            "17                 New York University   NaN              NaN   \n",
            "18             Northwestern University   NaN              NaN   \n",
            "19            Pennsylvania State Univ.   NaN              NaN   \n",
            "20                Princeton University   NaN              NaN   \n",
            "21                     Rice University   NaN              NaN   \n",
            "22                 Stanford University   NaN              NaN   \n",
            "23                    Tufts University   NaN              NaN   \n",
            "24                   Tulane University   NaN              NaN   \n",
            "25           U. of California–Berkeley   NaN              NaN   \n",
            "26              U. of California–Davis   NaN              NaN   \n",
            "27             U. of California–Irvine   NaN              NaN   \n",
            "28        U. of California–Los Angeles   NaN              NaN   \n",
            "29          U. of California–San Diego   NaN              NaN   \n",
            "30      U. of California–Santa Barbara   NaN              NaN   \n",
            "31                       U. of Chicago   NaN              NaN   \n",
            "32                       U. of Florida   NaN              NaN   \n",
            "33     U. of Illinois–Urbana Champaign   NaN              NaN   \n",
            "34            U. of Michigan–Ann Arbor   NaN              NaN   \n",
            "35    U. of North Carolina–Chapel Hill   NaN              NaN   \n",
            "36                    U. of Notre Dame   NaN              NaN   \n",
            "37                  U. of Pennsylvania   NaN              NaN   \n",
            "38                     U. of Rochester   NaN              NaN   \n",
            "39           U. of Southern California   NaN              NaN   \n",
            "40                  U. of Texas–Austin   NaN              NaN   \n",
            "41                      U. of Virginia   NaN              NaN   \n",
            "42                    U. of Washington   NaN              NaN   \n",
            "43             U. of Wisconsin–Madison   NaN              NaN   \n",
            "44               Vanderbilt University   NaN              NaN   \n",
            "45              Wake Forest University   NaN              NaN   \n",
            "46     Washington University–St. Louis   NaN              NaN   \n",
            "47                     Yale University   NaN              NaN   \n",
            "\n",
            "    % of Classes Under 20  Student-Faculty Ratio  Alumni Giving Rate  \n",
            "0                    65.0                    8.0                13.0  \n",
            "1                     NaN                   13.0                 NaN  \n",
            "2                     NaN                    NaN                 NaN  \n",
            "3                     NaN                    NaN                 NaN  \n",
            "4                     NaN                    NaN                 NaN  \n",
            "5                     NaN                    NaN                 NaN  \n",
            "6                     NaN                    NaN                 NaN  \n",
            "7                     NaN                    NaN                 NaN  \n",
            "8                     NaN                    NaN                 NaN  \n",
            "9                     NaN                    NaN                 NaN  \n",
            "10                    NaN                    NaN                 NaN  \n",
            "11                    NaN                    NaN                 NaN  \n",
            "12                    NaN                    NaN                 NaN  \n",
            "13                    NaN                    NaN                 NaN  \n",
            "14                    NaN                    NaN                 NaN  \n",
            "15                    NaN                    NaN                 NaN  \n",
            "16                    NaN                    NaN                 NaN  \n",
            "17                    NaN                    NaN                 NaN  \n",
            "18                    NaN                    NaN                 NaN  \n",
            "19                    NaN                    NaN                 NaN  \n",
            "20                    NaN                    NaN                 NaN  \n",
            "21                    NaN                    NaN                 NaN  \n",
            "22                    NaN                    NaN                 NaN  \n",
            "23                    NaN                    NaN                 NaN  \n",
            "24                    NaN                    NaN                 NaN  \n",
            "25                    NaN                    NaN                 NaN  \n",
            "26                    NaN                    NaN                 NaN  \n",
            "27                    NaN                    NaN                 NaN  \n",
            "28                    NaN                    NaN                 NaN  \n",
            "29                    NaN                    NaN                 NaN  \n",
            "30                    NaN                    NaN                 NaN  \n",
            "31                    NaN                    NaN                 NaN  \n",
            "32                    NaN                    NaN                 NaN  \n",
            "33                    NaN                    NaN                 NaN  \n",
            "34                    NaN                    NaN                 NaN  \n",
            "35                    NaN                    NaN                 NaN  \n",
            "36                    NaN                    NaN                 NaN  \n",
            "37                    NaN                    NaN                 NaN  \n",
            "38                    NaN                    NaN                 NaN  \n",
            "39                    NaN                    NaN                 NaN  \n",
            "40                    NaN                    NaN                 NaN  \n",
            "41                    NaN                    NaN                 NaN  \n",
            "42                    NaN                    NaN                 NaN  \n",
            "43                    NaN                    NaN                 NaN  \n",
            "44                    NaN                    NaN                 NaN  \n",
            "45                    NaN                    NaN                 NaN  \n",
            "46                    NaN                    NaN                 NaN  \n",
            "47                    NaN                    NaN                 NaN  \n"
          ]
        },
        {
          "output_type": "stream",
          "name": "stderr",
          "text": [
            "/usr/local/lib/python3.7/dist-packages/ipykernel_launcher.py:1: FutureWarning: Dropping of nuisance columns in DataFrame reductions (with 'numeric_only=None') is deprecated; in a future version this will raise TypeError.  Select only valid columns before calling the reduction.\n",
            "  \"\"\"Entry point for launching an IPython kernel.\n",
            "/usr/local/lib/python3.7/dist-packages/ipykernel_launcher.py:2: FutureWarning: Dropping of nuisance columns in DataFrame reductions (with 'numeric_only=None') is deprecated; in a future version this will raise TypeError.  Select only valid columns before calling the reduction.\n",
            "  \n"
          ]
        }
      ]
    },
    {
      "cell_type": "markdown",
      "source": [
        "Use the methods of the descriptive statistics summarize the data."
      ],
      "metadata": {
        "id": "o_s-q7PpRjPz"
      }
    },
    {
      "cell_type": "code",
      "source": [
        "min1 = df.min()\n",
        "max1 = df.max()\n",
        "q1 = df.quantile(q= .25)\n",
        "q2 = df.quantile(q=.5)\n",
        "q3 = df.quantile(q=.75)\n",
        "sd1 = df.std()\n",
        "var1 = df.var()\n",
        "print('Here is the summary statistics for the Total Estimate column', '\\nMin: ', min1, '\\nMax: ', max1, '\\nQ1, Q2, Q3: ', q1, ', ', q2, ', ', q3, '\\nStandard Deviation:', sd1, '\\nVariance:', var1)"
      ],
      "metadata": {
        "colab": {
          "base_uri": "https://localhost:8080/"
        },
        "id": "LLrCivE_JkAp",
        "outputId": "2748835d-44a1-4716-91ea-0008a9f4982d"
      },
      "execution_count": null,
      "outputs": [
        {
          "output_type": "stream",
          "name": "stdout",
          "text": [
            "Here is the summary statistics for the Total Estimate column \n",
            "Min:  University               Boston College\n",
            "State                                CA\n",
            "Graduation Rate                      66\n",
            "% of Classes Under 20                29\n",
            "Student-Faculty Ratio                 3\n",
            "Alumni Giving Rate                    7\n",
            "dtype: object \n",
            "Max:  University               Yale University\n",
            "State                                 WI\n",
            "Graduation Rate                       97\n",
            "% of Classes Under 20                 77\n",
            "Student-Faculty Ratio                 23\n",
            "Alumni Giving Rate                    67\n",
            "dtype: object \n",
            "Q1, Q2, Q3:  Graduation Rate          75.75\n",
            "% of Classes Under 20    44.75\n",
            "Student-Faculty Ratio     8.00\n",
            "Alumni Giving Rate       18.75\n",
            "Name: 0.25, dtype: float64 ,  Graduation Rate          83.5\n",
            "% of Classes Under 20    59.5\n",
            "Student-Faculty Ratio    10.5\n",
            "Alumni Giving Rate       29.0\n",
            "Name: 0.5, dtype: float64 ,  Graduation Rate          91.00\n",
            "% of Classes Under 20    66.25\n",
            "Student-Faculty Ratio    13.50\n",
            "Alumni Giving Rate       38.50\n",
            "Name: 0.75, dtype: float64 \n",
            "Standard Deviation: Graduation Rate           8.607168\n",
            "% of Classes Under 20    13.193712\n",
            "Student-Faculty Ratio     4.850788\n",
            "Alumni Giving Rate       13.441346\n",
            "dtype: float64 \n",
            "Variance: Graduation Rate           74.083333\n",
            "% of Classes Under 20    174.074025\n",
            "Student-Faculty Ratio     23.530142\n",
            "Alumni Giving Rate       180.669770\n",
            "dtype: float64\n"
          ]
        },
        {
          "output_type": "stream",
          "name": "stderr",
          "text": [
            "/usr/local/lib/python3.7/dist-packages/ipykernel_launcher.py:6: FutureWarning: Dropping of nuisance columns in DataFrame reductions (with 'numeric_only=None') is deprecated; in a future version this will raise TypeError.  Select only valid columns before calling the reduction.\n",
            "  \n",
            "/usr/local/lib/python3.7/dist-packages/ipykernel_launcher.py:7: FutureWarning: Dropping of nuisance columns in DataFrame reductions (with 'numeric_only=None') is deprecated; in a future version this will raise TypeError.  Select only valid columns before calling the reduction.\n",
            "  import sys\n"
          ]
        }
      ]
    },
    {
      "cell_type": "markdown",
      "source": [
        "Use the methods of the descriptive statistics summarize the data."
      ],
      "metadata": {
        "id": "ERhISgmKRnBk"
      }
    },
    {
      "cell_type": "code",
      "source": [
        "m1 = df['Graduation Rate'].mean()\n",
        "med1 = df['Graduation Rate'].median()\n",
        "mod1 = df['Graduation Rate'].mode()\n",
        "print('Here is the summary statistics for the Graduation Rate column', '\\nMean: ', m1, '\\nMedian: ', med1, '\\nMode: ', mod1)\n",
        "\n",
        "m2 = df['Alumni Giving Rate'].mean()\n",
        "med2 = df['Alumni Giving Rate'].median()\n",
        "mod2 = df['Alumni Giving Rate'].mode()\n",
        "print('Here is the summary statistics for the Alumni Giving Rate column', '\\nMean: ', m1, '\\nMedian: ', med1, '\\nMode: ', mod1)"
      ],
      "metadata": {
        "colab": {
          "base_uri": "https://localhost:8080/"
        },
        "id": "JkkcK2l8O2mb",
        "outputId": "5f76238b-6cf3-4ae1-d537-5e64760df56e"
      },
      "execution_count": null,
      "outputs": [
        {
          "output_type": "stream",
          "name": "stdout",
          "text": [
            "Here is the summary statistics for the Graduation Rate column \n",
            "Mean:  83.04166666666667 \n",
            "Median:  83.5 \n",
            "Mode:  0    92\n",
            "dtype: int64\n"
          ]
        }
      ]
    },
    {
      "cell_type": "markdown",
      "source": [
        "Test your hypothesis using a simple linear regression model that can be used to predict the alumni giving rate, given the graduation rate. Report and discuss your findings using appropriate model statistics.\n"
      ],
      "metadata": {
        "id": "tcpY5CRuRuFF"
      }
    },
    {
      "cell_type": "code",
      "source": [
        "x = np.array(df['Graduation Rate']).reshape(-1, 1)\n",
        "y =np.array(df['Alumni Giving Rate']).reshape(-1, 1)\n",
        "X_train, X_test, y_train, y_test = train_test_split(x, y, test_size = 0.25)"
      ],
      "metadata": {
        "id": "8ptHZ5G-X51C"
      },
      "execution_count": null,
      "outputs": []
    },
    {
      "cell_type": "code",
      "source": [
        "reg = lr()\n",
        "reg.fit(x, y)\n",
        "print(reg.score(x, y))"
      ],
      "metadata": {
        "colab": {
          "base_uri": "https://localhost:8080/"
        },
        "id": "g2G0zVVhPMLL",
        "outputId": "f9da9233-a22b-4fb8-b7ad-f87b23ea707f"
      },
      "execution_count": null,
      "outputs": [
        {
          "output_type": "stream",
          "name": "stdout",
          "text": [
            "0.6999406058253763\n"
          ]
        }
      ]
    },
    {
      "cell_type": "code",
      "source": [
        "mod = sm.OLS(x, y)\n",
        "res = mod.fit()\n",
        "print(res.summary())"
      ],
      "metadata": {
        "colab": {
          "base_uri": "https://localhost:8080/"
        },
        "id": "_OsJEuWWQ4Ye",
        "outputId": "0158db87-bca8-4b79-e348-ea7b43600118"
      },
      "execution_count": null,
      "outputs": [
        {
          "output_type": "stream",
          "name": "stdout",
          "text": [
            "                                 OLS Regression Results                                \n",
            "=======================================================================================\n",
            "Dep. Variable:                      y   R-squared (uncentered):                   0.879\n",
            "Model:                            OLS   Adj. R-squared (uncentered):              0.876\n",
            "Method:                 Least Squares   F-statistic:                              341.6\n",
            "Date:                Wed, 16 Mar 2022   Prob (F-statistic):                    3.41e-23\n",
            "Time:                        14:05:59   Log-Likelihood:                         -229.79\n",
            "No. Observations:                  48   AIC:                                      461.6\n",
            "Df Residuals:                      47   BIC:                                      463.5\n",
            "Df Model:                           1                                                  \n",
            "Covariance Type:            nonrobust                                                  \n",
            "==============================================================================\n",
            "                 coef    std err          t      P>|t|      [0.025      0.975]\n",
            "------------------------------------------------------------------------------\n",
            "x1             2.4343      0.132     18.482      0.000       2.169       2.699\n",
            "==============================================================================\n",
            "Omnibus:                        2.262   Durbin-Watson:                   0.994\n",
            "Prob(Omnibus):                  0.323   Jarque-Bera (JB):                1.560\n",
            "Skew:                          -0.432   Prob(JB):                        0.458\n",
            "Kurtosis:                       3.182   Cond. No.                         1.00\n",
            "==============================================================================\n",
            "\n",
            "Warnings:\n",
            "[1] Standard Errors assume that the covariance matrix of the errors is correctly specified.\n"
          ]
        }
      ]
    },
    {
      "cell_type": "markdown",
      "source": [
        "% of Classes Under 20\n",
        "\n",
        "Student-Faculty Ratio "
      ],
      "metadata": {
        "id": "6CnO89vxQHbo"
      }
    },
    {
      "cell_type": "code",
      "source": [
        "x = df[['% of Classes Under 20', 'Student-Faculty Ratio','Graduation Rate']]\n",
        "y = np.array(df['Alumni Giving Rate']).reshape(-1, 1)"
      ],
      "metadata": {
        "id": "T4t9s4AndttK"
      },
      "execution_count": null,
      "outputs": []
    },
    {
      "cell_type": "code",
      "source": [
        "X_train, X_test, y_train, y_test = train_test_split(x, y, test_size = 0.25)"
      ],
      "metadata": {
        "id": "cvQEQ2UvP36S"
      },
      "execution_count": null,
      "outputs": []
    },
    {
      "cell_type": "markdown",
      "source": [
        "Develop a multiple linear regression model that could be used to predict the alumni giving rate using Graduate Rate, % of Classes Under 20, and Student/Faculty Ratio as independent variables.  Report and discuss your findings using appropriate model statistics."
      ],
      "metadata": {
        "id": "6GXbrR4CR1Sj"
      }
    },
    {
      "cell_type": "code",
      "source": [
        "multilm = reg.fit(x, y)\n",
        "print(reg.score(x, y))"
      ],
      "metadata": {
        "colab": {
          "base_uri": "https://localhost:8080/"
        },
        "id": "qX-A6qtsQN6J",
        "outputId": "c08b4a9e-4a2f-4a30-eefb-840784961b48"
      },
      "execution_count": null,
      "outputs": [
        {
          "output_type": "stream",
          "name": "stdout",
          "text": [
            "0.6999406058253763\n"
          ]
        }
      ]
    },
    {
      "cell_type": "code",
      "source": [
        "def summarizing(regmodel):\n",
        "    #R2 value\n",
        "    r2reg = regmodel.r2_score()\n",
        "    \n",
        "    #\n",
        "    varreg = regmodel.explained_variance_score()\n",
        "    \n",
        "\n",
        "    maxreg = regmodel.max_error()\n",
        "    \n",
        "    #returns the cofecient\n",
        "    coefreg = regmodel.coef_\n",
        "    \n",
        "    #returns the y intercept\n",
        "    interreg = regmodel.intercept_\n",
        "\n",
        "\n",
        "    featreg = regmodel.n_features_in_\n",
        "    \n",
        "\n",
        "    scorereg = regmodel.score()\n",
        "\n",
        "\n",
        "    paramsreg = regmodel.set_params()\n",
        "    return(print())\n"
      ],
      "metadata": {
        "id": "fj0OheJA7CQX"
      },
      "execution_count": null,
      "outputs": []
    },
    {
      "cell_type": "code",
      "source": [
        "from rpy2.robjects import FloatVector\n",
        "from rpy2.robjects.packages import importr\n",
        "import rpy2.robjects as robjects\n",
        "stats = importr('stats')\n",
        "base = importr('base')\n",
        "robjects.globalenv[\"x1\"] = FloatVector(df['Graduation Rate'])\n",
        "robjects.globalenv[\"x2\"] = FloatVector(df['% of Classes Under 20'])\n",
        "robjects.globalenv[\"x3\"] = FloatVector(df['Student-Faculty Ratio'])\n",
        "robjects.globalenv[\"y\"] = FloatVector(df['Alumni Giving Rate'])\n",
        "lmheight = stats.lm('y~x1+x2+x3')\n",
        "base.summary(lmheight)"
      ],
      "metadata": {
        "colab": {
          "base_uri": "https://localhost:8080/",
          "height": 418
        },
        "id": "hqJStaHCIWyp",
        "outputId": "c58de2db-4e85-46d4-fd4d-7ebf41b6ee29"
      },
      "execution_count": null,
      "outputs": [
        {
          "output_type": "execute_result",
          "data": {
            "text/plain": [
              "<rpy2.robjects.vectors.ListVector object at 0x7f527a270500> [RTYPES.VECSXP]\n",
              "R classes: ('summary.lm',)\n",
              "[LangSexpV..., LangSexpV..., FloatSexp..., FloatSexp..., ..., FloatSexp..., FloatSexp..., FloatSexp..., FloatSexp...]\n",
              "  call: <class 'rpy2.robjects.language.LangVector'>\n",
              "  Rlang( (function (formula, data, subset, weights, na.action, method = \"qr\",  )\n",
              "  terms: <class 'rpy2.robjects.Formula'>\n",
              "  <rpy2.robjects.Formula object at 0x7f527a2711e0> [RTYPES.LANGSXP]\n",
              "R classes: ('terms', 'formula')\n",
              "  residuals: <class 'rpy2.robjects.vectors.FloatVector'>\n",
              "  <rpy2.robjects.vectors.FloatVector object at 0x7f527a2715f0> [RTYPES.REALSXP]\n",
              "R classes: ('numeric',)\n",
              "[-3.511850, 2.175015, -1.067219, 4.812986, ..., -0.877523, 8.767864, -4.399479, 6.498896]\n",
              "  coefficients: <class 'rpy2.robjects.vectors.FloatMatrix'>\n",
              "  <rpy2.robjects.vectors.FloatMatrix object at 0x7f527a271c30> [RTYPES.REALSXP]\n",
              "R classes: ('matrix', 'array')\n",
              "[-20.720134, 0.748183, 0.029041, -1.192011, ..., 0.243333, 0.000048, 0.835844, 0.003538]\n",
              "...\n",
              "  sigma: <class 'rpy2.robjects.vectors.FloatVector'>\n",
              "  <rpy2.robjects.vectors.FloatVector object at 0x7f527a271f50> [RTYPES.REALSXP]\n",
              "R classes: ('numeric',)\n",
              "[0.699941]\n",
              "  df: <class 'rpy2.robjects.vectors.FloatVector'>\n",
              "  <rpy2.robjects.vectors.FloatVector object at 0x7f527a274460> [RTYPES.REALSXP]\n",
              "R classes: ('numeric',)\n",
              "[0.679482]\n",
              "  r.squared: <class 'rpy2.robjects.vectors.FloatVector'>\n",
              "  <rpy2.robjects.vectors.FloatVector object at 0x7f527a274820> [RTYPES.REALSXP]\n",
              "R classes: ('numeric',)\n",
              "[34.212545, 3.000000, 44.000000]\n",
              "  adj.r.squared: <class 'rpy2.robjects.vectors.FloatMatrix'>\n",
              "  <rpy2.robjects.vectors.FloatMatrix object at 0x7f527a2740a0> [RTYPES.REALSXP]\n",
              "R classes: ('matrix', 'array')\n",
              "[5.301490, -0.038382, -0.018627, -0.091435, ..., -0.091435, 0.000324, 0.000623, 0.002583]"
            ],
            "text/html": [
              "\n",
              "        <span>ListVector with 11 elements.</span>\n",
              "        <table>\n",
              "        <tbody>\n",
              "        \n",
              "          <tr>\n",
              "            <th>\n",
              "            call\n",
              "            </th>\n",
              "            <td>\n",
              "            \n",
              "Call:\n",
              "(function (formula, data, subset, weights, na.action, method = \"qr\", \n",
              "    model = TRUE, x = FALSE, y = FALSE, qr = TRUE, singular.ok = TRUE, \n",
              "    contrasts = NULL, offset, ...) \n",
              "{\n",
              "    ret.x <- x\n",
              "    ret.y <- y\n",
              "    cl <- match.call()\n",
              "    mf <- match.call(expand.dots = FALSE)\n",
              "    m <- match(c(\"formula\", \"data\", \"subset\", \"weights\", \"na.action\", \n",
              "        \"offset\"), names(mf), 0L)\n",
              "    mf <- mf[c(1L, m)]\n",
              "    mf$drop.unused.levels <- TRUE\n",
              "    mf[[1L]] <- quote(stats::model.frame)\n",
              "    mf <- eval(mf, parent.frame())\n",
              "    if (method == \"model.frame\") \n",
              "        return(mf)\n",
              "    else if (method != \"qr\") \n",
              "        warning(gettextf(\"method = '%s' is not supported. Using 'qr'\", \n",
              "            method), domain = NA)\n",
              "    mt <- attr(mf, \"terms\")\n",
              "    y <- model.response(mf, \"numeric\")\n",
              "    w <- as.vector(model.weights(mf))\n",
              "    if (!is.null(w) && !is.numeric(w)) \n",
              "        stop(\"'weights' must be a numeric vector\")\n",
              "    offset <- model.offset(mf)\n",
              "    mlm <- is.matrix(y)\n",
              "    ny <- if (mlm) \n",
              "        nrow(y)\n",
              "    else length(y)\n",
              "    if (!is.null(offset)) {\n",
              "        if (!mlm) \n",
              "            offset <- as.vector(offset)\n",
              "        if (NROW(offset) != ny) \n",
              "            stop(gettextf(\"number of offsets is %d, should equal %d (number of observations)\", \n",
              "                NROW(offset), ny), domain = NA)\n",
              "    }\n",
              "    if (is.empty.model(mt)) {\n",
              "        x <- NULL\n",
              "        z <- list(coefficients = if (mlm) matrix(NA_real_, 0, \n",
              "            ncol(y)) else numeric(), residuals = y, fitted.values = 0 * \n",
              "            y, weights = w, rank = 0L, df.residual = if (!is.null(w)) sum(w != \n",
              "            0) else ny)\n",
              "        if (!is.null(offset)) {\n",
              "            z$fitted.values <- offset\n",
              "            z$residuals <- y - offset\n",
              "        }\n",
              "    }\n",
              "    else {\n",
              "        x <- model.matrix(mt, mf, contrasts)\n",
              "        z <- if (is.null(w)) \n",
              "            lm.fit(x, y, offset = offset, singular.ok = singular.ok, \n",
              "                ...)\n",
              "        else lm.wfit(x, y, w, offset = offset, singular.ok = singular.ok, \n",
              "            ...)\n",
              "    }\n",
              "    class(z) <- c(if (mlm) \"mlm\", \"lm\")\n",
              "    z$na.action <- attr(mf, \"na.action\")\n",
              "    z$offset <- offset\n",
              "    z$contrasts <- attr(x, \"contrasts\")\n",
              "    z$xlevels <- .getXlevels(mt, mf)\n",
              "    z$call <- cl\n",
              "    z$terms <- mt\n",
              "    if (model) \n",
              "        z$model <- mf\n",
              "    if (ret.x) \n",
              "        z$x <- x\n",
              "    if (ret.y) \n",
              "        z$y <- y\n",
              "    if (!qr) \n",
              "        z$qr <- NULL\n",
              "    z\n",
              "})(formula = \"y~x1+x2+x3\")\n",
              "\n",
              "Coefficients:\n",
              "(Intercept)           x1           x2           x3  \n",
              "  -20.72013      0.74818      0.02904     -1.19201  \n",
              "\n",
              "\n",
              "            </td>\n",
              "          </tr>\n",
              "        \n",
              "          <tr>\n",
              "            <th>\n",
              "            terms\n",
              "            </th>\n",
              "            <td>\n",
              "            y ~ x1 + x2 + x3\n",
              "attr(,\"variables\")\n",
              "list(y, x1, x2, x3)\n",
              "attr(,\"factors\")\n",
              "   x1 x2 x3\n",
              "y   0  0  0\n",
              "x1  1  0  0\n",
              "x2  0  1  0\n",
              "x3  0  0  1\n",
              "attr(,\"term.labels\")\n",
              "[1] \"x1\" \"x2\" \"x3\"\n",
              "attr(,\"order\")\n",
              "[1] 1 1 1\n",
              "attr(,\"intercept\")\n",
              "[1] 1\n",
              "attr(,\"response\")\n",
              "[1] 1\n",
              "attr(,\".Environment\")\n",
              "<environment: 0x56432f42c5b8>\n",
              "attr(,\"predvars\")\n",
              "list(y, x1, x2, x3)\n",
              "attr(,\"dataClasses\")\n",
              "        y        x1        x2        x3 \n",
              "\"numeric\" \"numeric\" \"numeric\" \"numeric\" \n",
              "\n",
              "            </td>\n",
              "          </tr>\n",
              "        \n",
              "          <tr>\n",
              "            <th>\n",
              "            residuals\n",
              "            </th>\n",
              "            <td>\n",
              "            \n",
              "        <span>FloatVector with 48 elements.</span>\n",
              "        <table>\n",
              "        <tbody>\n",
              "          <tr>\n",
              "          \n",
              "            <td>\n",
              "            -3.511850\n",
              "            </td>\n",
              "          \n",
              "            <td>\n",
              "            2.175015\n",
              "            </td>\n",
              "          \n",
              "            <td>\n",
              "            -1.067219\n",
              "            </td>\n",
              "          \n",
              "            <td>\n",
              "            ...\n",
              "            </td>\n",
              "          \n",
              "            <td>\n",
              "            8.767864\n",
              "            </td>\n",
              "          \n",
              "            <td>\n",
              "            -4.399479\n",
              "            </td>\n",
              "          \n",
              "            <td>\n",
              "            6.498896\n",
              "            </td>\n",
              "          \n",
              "          </tr>\n",
              "        </tbody>\n",
              "        </table>\n",
              "        \n",
              "            </td>\n",
              "          </tr>\n",
              "        \n",
              "          <tr>\n",
              "            <th>\n",
              "            ...\n",
              "            </th>\n",
              "            <td>\n",
              "            ...\n",
              "            </td>\n",
              "          </tr>\n",
              "        \n",
              "          <tr>\n",
              "            <th>\n",
              "            adj.r.squared\n",
              "            </th>\n",
              "            <td>\n",
              "            \n",
              "        <span>FloatVector with 1 elements.</span>\n",
              "        <table>\n",
              "        <tbody>\n",
              "          <tr>\n",
              "          \n",
              "            <td>\n",
              "            0.679482\n",
              "            </td>\n",
              "          \n",
              "          </tr>\n",
              "        </tbody>\n",
              "        </table>\n",
              "        \n",
              "            </td>\n",
              "          </tr>\n",
              "        \n",
              "          <tr>\n",
              "            <th>\n",
              "            fstatistic\n",
              "            </th>\n",
              "            <td>\n",
              "            \n",
              "        <span>FloatVector with 3 elements.</span>\n",
              "        <table>\n",
              "        <tbody>\n",
              "          <tr>\n",
              "          \n",
              "            <td>\n",
              "            34.212545\n",
              "            </td>\n",
              "          \n",
              "            <td>\n",
              "            3.000000\n",
              "            </td>\n",
              "          \n",
              "            <td>\n",
              "            44.000000\n",
              "            </td>\n",
              "          \n",
              "          </tr>\n",
              "        </tbody>\n",
              "        </table>\n",
              "        \n",
              "            </td>\n",
              "          </tr>\n",
              "        \n",
              "          <tr>\n",
              "            <th>\n",
              "            cov.unscaled\n",
              "            </th>\n",
              "            <td>\n",
              "            \n",
              "        <span>FloatMatrix with 16 elements.</span>\n",
              "        <table>\n",
              "        <tbody>\n",
              "          <tr>\n",
              "          \n",
              "            <td>\n",
              "            5.301490\n",
              "            </td>\n",
              "          \n",
              "            <td>\n",
              "            -0.038382\n",
              "            </td>\n",
              "          \n",
              "            <td>\n",
              "            -0.018627\n",
              "            </td>\n",
              "          \n",
              "            <td>\n",
              "            ...\n",
              "            </td>\n",
              "          \n",
              "            <td>\n",
              "            0.000324\n",
              "            </td>\n",
              "          \n",
              "            <td>\n",
              "            0.000623\n",
              "            </td>\n",
              "          \n",
              "            <td>\n",
              "            0.002583\n",
              "            </td>\n",
              "          \n",
              "          </tr>\n",
              "        </tbody>\n",
              "        </table>\n",
              "        \n",
              "            </td>\n",
              "          </tr>\n",
              "        \n",
              "        </tbody>\n",
              "        </table>\n",
              "        "
            ]
          },
          "metadata": {},
          "execution_count": 29
        }
      ]
    },
    {
      "cell_type": "markdown",
      "source": [
        "Which universities are achieving a substantially higher alumni giving rate than would be expected, given their Graduate Rate, % of Classes Under 20, and Student/Faculty Ratio?\n"
      ],
      "metadata": {
        "id": "rMhU7nnIQ3di"
      }
    }
  ]
}